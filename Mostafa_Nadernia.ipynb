{
  "nbformat": 4,
  "nbformat_minor": 0,
  "metadata": {
    "colab": {
      "name": "Mostafa_Nadernia.ipynb",
      "provenance": [],
      "collapsed_sections": [],
      "toc_visible": true,
      "include_colab_link": true
    },
    "kernelspec": {
      "name": "python3",
      "display_name": "Python 3"
    }
  },
  "cells": [
    {
      "cell_type": "markdown",
      "metadata": {
        "id": "view-in-github",
        "colab_type": "text"
      },
      "source": [
        "<a href=\"https://colab.research.google.com/github/mostafanadernia/data_mining_projects/blob/main/Mostafa_Nadernia.ipynb\" target=\"_parent\"><img src=\"https://colab.research.google.com/assets/colab-badge.svg\" alt=\"Open In Colab\"/></a>"
      ]
    },
    {
      "cell_type": "markdown",
      "metadata": {
        "id": "hhbdTe1ukHaJ"
      },
      "source": [
        "#<p dir='rtl'>**کتابخانه ها**</p>"
      ]
    },
    {
      "cell_type": "code",
      "metadata": {
        "id": "Bv1LkNubFFhg"
      },
      "source": [
        "from nltk.corpus import sentiwordnet as swn\r\n",
        "from nltk.corpus import wordnet as wn\r\n",
        "from sklearn.naive_bayes import MultinomialNB\r\n",
        "from matplotlib import pyplot\r\n",
        "\r\n",
        "from nltk.stem.wordnet import WordNetLemmatizer\r\n",
        "import numpy as np # linear algebra\r\n",
        "import pandas as pd # data processing, CSV file I/O (e.g. pd.read_csv)\r\n",
        "import spacy\r\n",
        "import nltk\r\n",
        "import string\r\n",
        "from nltk.corpus import stopwords\r\n",
        "from nltk import word_tokenize, pos_tag\r\n",
        "\r\n",
        "\r\n",
        "from sklearn.metrics import confusion_matrix,f1_score, precision_score,recall_score\r\n",
        "\r\n",
        "from sklearn.feature_extraction.text import CountVectorizer\r\n",
        "from keras.preprocessing.text import Tokenizer\r\n",
        "from keras.preprocessing.sequence import pad_sequences\r\n",
        "from keras.models import Sequential\r\n",
        "from keras.layers import Dense, Embedding, LSTM, SpatialDropout1D\r\n",
        "from sklearn.model_selection import train_test_split\r\n",
        "from keras.utils.np_utils import to_categorical\r\n",
        "import re\r\n",
        "\r\n",
        "# Input data files are available in the \"../input/\" directory.\r\n",
        "# For example, running this (by clicking run or pressing Shift+Enter) will list the files in the input directory"
      ],
      "execution_count": null,
      "outputs": []
    },
    {
      "cell_type": "code",
      "metadata": {
        "colab": {
          "base_uri": "https://localhost:8080/"
        },
        "id": "bGZ7AZdKjk39",
        "outputId": "c23f9717-2055-411a-aa3a-8a66b826b531"
      },
      "source": [
        "import nltk\r\n",
        "nltk.download('stopwords')\r\n",
        "nltk.download('punkt')\r\n",
        "nltk.download('wordnet')\r\n",
        "nltk.download('averaged_perceptron_tagger')\r\n",
        "nltk.download('sentiwordnet')"
      ],
      "execution_count": null,
      "outputs": [
        {
          "output_type": "stream",
          "text": [
            "[nltk_data] Downloading package stopwords to /root/nltk_data...\n",
            "[nltk_data]   Package stopwords is already up-to-date!\n",
            "[nltk_data] Downloading package punkt to /root/nltk_data...\n",
            "[nltk_data]   Package punkt is already up-to-date!\n",
            "[nltk_data] Downloading package wordnet to /root/nltk_data...\n",
            "[nltk_data]   Package wordnet is already up-to-date!\n",
            "[nltk_data] Downloading package averaged_perceptron_tagger to\n",
            "[nltk_data]     /root/nltk_data...\n",
            "[nltk_data]   Package averaged_perceptron_tagger is already up-to-\n",
            "[nltk_data]       date!\n",
            "[nltk_data] Downloading package sentiwordnet to /root/nltk_data...\n",
            "[nltk_data]   Package sentiwordnet is already up-to-date!\n"
          ],
          "name": "stdout"
        },
        {
          "output_type": "execute_result",
          "data": {
            "text/plain": [
              "True"
            ]
          },
          "metadata": {
            "tags": []
          },
          "execution_count": 179
        }
      ]
    },
    {
      "cell_type": "markdown",
      "metadata": {
        "id": "3r1hayjL7wUA"
      },
      "source": [
        "#<p dir='rtl'>**فراخوانی داده ها و استفاده از آن ها**"
      ]
    },
    {
      "cell_type": "markdown",
      "metadata": {
        "id": "9ePjlFshbFXp"
      },
      "source": [
        "<p dir='rtl'>\r\n",
        "در فیلد پایین باید بر اساس مسیر قرار گیری فایل ها تغییرات مسیردهی را اعمال کرد.\r\n",
        "</p>"
      ]
    },
    {
      "cell_type": "code",
      "metadata": {
        "id": "OSLchhdmFKQr"
      },
      "source": [
        "data = pd.read_csv('/content/BTCUSDnews_Nadernia_1.csv')\r\n",
        "# Keeping only the neccessary columns\r\n",
        "data = data[['Label','title','articleBody']]\r\n",
        "data['text']=data['title']+data['articleBody']"
      ],
      "execution_count": null,
      "outputs": []
    },
    {
      "cell_type": "markdown",
      "metadata": {
        "id": "s5CKlsRuW5Ed"
      },
      "source": [
        "<p dir='rtl'>\r\n",
        "در فیلد بالا اگر دستور زیر قرار داده شود مدل به روی نظرات آموزش داده میشود و بار احساسی بر اساس کلمات در نظرات مشخص میشود\r\n",
        "</p>\r\n",
        "\r\n",
        "```\r\n",
        "data['text']=data['articleBody']\r\n",
        "```\r\n",
        "<p dir='rtl'>\r\n",
        "اگر دستور زیر قرار داده شود بار احساسی عنوان خبر در نظر گرفته میشود \r\n",
        "</p>\r\n",
        "\r\n",
        "```\r\n",
        "data['text']=data['title']\r\n",
        "```"
      ]
    },
    {
      "cell_type": "code",
      "metadata": {
        "id": "GzNkBO4Oh2km"
      },
      "source": [
        "#import other lists of stopwords\r\n",
        "with open('/content/StopWords_GenericLong.txt', 'r') as f:\r\n",
        " x_gl = f.readlines()\r\n",
        "with open('/content/StopWords_Names.txt', 'r') as f:\r\n",
        " x_n = f.readlines()\r\n",
        "with open('/content/StopWords_DatesandNumbers.txt', 'r') as f:\r\n",
        " x_d = f.readlines()\r\n",
        "#import nltk stopwords\r\n",
        "stopwords = nltk.corpus.stopwords.words('english')#combine all stopwords\r\n",
        "[stopwords.append(x.rstrip()) for x in x_gl]\r\n",
        "[stopwords.append(x.rstrip()) for x in x_n]\r\n",
        "[stopwords.append(x.rstrip()) for x in x_d]\r\n",
        "#change all stopwords into lowercase\r\n",
        "stopwords_lower = [s.lower() for s in stopwords]"
      ],
      "execution_count": null,
      "outputs": []
    },
    {
      "cell_type": "markdown",
      "metadata": {
        "id": "YhUqz9BP8D5-"
      },
      "source": [
        "#<p dir='rtl'>**پیش پردازش داده**"
      ]
    },
    {
      "cell_type": "code",
      "metadata": {
        "id": "VI1ZPHdtBpg-"
      },
      "source": [
        "nlp = spacy.load('en', disable=['parser', 'ner'])"
      ],
      "execution_count": null,
      "outputs": []
    },
    {
      "cell_type": "code",
      "metadata": {
        "id": "OhLV6efo-8HZ"
      },
      "source": [
        "def lemmaz(str_input):      #tokenization, remove punctuation, lemmatization\r\n",
        "     words=[token.lemma_ for token in nlp(str_input) if not token.is_punct]\r\n",
        "\r\n",
        " \r\n",
        "     # remove symbols, websites, email addresses \r\n",
        "     words = [re.sub(r\"[^A-Za-z@]\", \"\", word) for word in words] \r\n",
        "     words = [re.sub(r\"\\S+com\", \"\", word) for word in words]\r\n",
        "     words = [re.sub(r\"\\S+@\\S+\", \"\", word) for word in words] \r\n",
        "     words = [word for word in words if word!=' ']\r\n",
        "     words = [word for word in words if len(word)!=0] \r\n",
        " \r\n",
        "     #remove stopwords     \r\n",
        "     words=[word.lower() for word in words if word.lower() not in stopwords_lower]\r\n",
        "     #combine a list into one string \r\n",
        "       \r\n",
        "     string = \" \".join(words)    \r\n",
        "      \r\n",
        "     return string"
      ],
      "execution_count": null,
      "outputs": []
    },
    {
      "cell_type": "code",
      "metadata": {
        "id": "quwDVom8E2dW"
      },
      "source": [
        "def Score_preprocessing(sentence):\r\n",
        "  words = word_tokenize(sentence)\r\n",
        "  tags = pos_tag(words)\r\n",
        "  return tags"
      ],
      "execution_count": null,
      "outputs": []
    },
    {
      "cell_type": "code",
      "metadata": {
        "id": "kBJVQTMXFDgT"
      },
      "source": [
        "def penn_to_wn(tag):\r\n",
        "    tag=tag[1]\r\n",
        "#Convert between the PennTreebank tags to simple Wordnet tags\r\n",
        "    if tag.startswith('J'):\r\n",
        "        return wn.ADJ\r\n",
        "    elif tag.startswith('N'):\r\n",
        "        return wn.NOUN\r\n",
        "    elif tag.startswith('R'):\r\n",
        "        return wn.ADV\r\n",
        "    elif tag.startswith('V'):\r\n",
        "        return wn.VERB\r\n",
        "    return None\r\n",
        "\r\n",
        "def PAENN(Tag):\r\n",
        "  list1=[]\r\n",
        "  lemmatizer = WordNetLemmatizer()\r\n",
        "  i=0\r\n",
        "  while i < len(Tag):\r\n",
        "    wn_tag=penn_to_wn(Tag[i])\r\n",
        "    word = Tag[i][0]\r\n",
        "    if wn_tag != None:\r\n",
        "      lemma = lemmatizer.lemmatize(word, pos=wn_tag)\r\n",
        "      synsets = wn.synsets(lemma, pos=wn_tag)\r\n",
        "      if synsets != []:\r\n",
        "        list1.append(synsets)\r\n",
        "    i+=1\r\n",
        "  return list1"
      ],
      "execution_count": null,
      "outputs": []
    },
    {
      "cell_type": "code",
      "metadata": {
        "id": "k7lWlxjBFYC_"
      },
      "source": [
        "def Scores_Syns(synsets):\r\n",
        "  result=[]\r\n",
        "  i=0\r\n",
        "  while i< len(synsets):\r\n",
        "    posi=[]\r\n",
        "    if synsets != []:\r\n",
        "      synset = synsets[i][0]\r\n",
        "      swn_synset = swn.senti_synset(synset.name())\r\n",
        "      posi.append(swn_synset.pos_score())\r\n",
        "      posi.append(swn_synset.neg_score())\r\n",
        "      posi.append(swn_synset.pos_score() - swn_synset.neg_score())\r\n",
        "    result.append(posi)\r\n",
        "    i+=1\r\n",
        "  return result"
      ],
      "execution_count": null,
      "outputs": []
    },
    {
      "cell_type": "code",
      "metadata": {
        "colab": {
          "base_uri": "https://localhost:8080/"
        },
        "id": "0vHpv3IVFbNI",
        "outputId": "48933252-18eb-4abe-edae-5c1ecd4f97f3"
      },
      "source": [
        "data = data[data.sentiment != 0]\r\n",
        "data['text']=data['text'].apply(lemmaz)\r\n",
        "data['Tags']=data['text'].apply(Score_preprocessing)\r\n",
        "data['Scors']=data['Tags'].apply(lambda x: PAENN(x))\r\n",
        "print(\"Word is Pos:\",data[ data['sentiment'] == 1].size)\r\n",
        "print(\"Word is Neg:\",data[ data['sentiment'] == -1].size)\r\n"
      ],
      "execution_count": null,
      "outputs": [
        {
          "output_type": "stream",
          "text": [
            "Word is Pos: 3060\n",
            "Word is Neg: 1848\n"
          ],
          "name": "stdout"
        }
      ]
    },
    {
      "cell_type": "code",
      "metadata": {
        "colab": {
          "base_uri": "https://localhost:8080/",
          "height": 293
        },
        "id": "gQYIx815-qCZ",
        "outputId": "523e15e6-e41e-4a32-9fca-73481ca8b565"
      },
      "source": [
        "data.head(5)"
      ],
      "execution_count": null,
      "outputs": [
        {
          "output_type": "execute_result",
          "data": {
            "text/html": [
              "<div>\n",
              "<style scoped>\n",
              "    .dataframe tbody tr th:only-of-type {\n",
              "        vertical-align: middle;\n",
              "    }\n",
              "\n",
              "    .dataframe tbody tr th {\n",
              "        vertical-align: top;\n",
              "    }\n",
              "\n",
              "    .dataframe thead th {\n",
              "        text-align: right;\n",
              "    }\n",
              "</style>\n",
              "<table border=\"1\" class=\"dataframe\">\n",
              "  <thead>\n",
              "    <tr style=\"text-align: right;\">\n",
              "      <th></th>\n",
              "      <th>sentiment</th>\n",
              "      <th>title</th>\n",
              "      <th>articleBody</th>\n",
              "      <th>text</th>\n",
              "      <th>Tags</th>\n",
              "      <th>Scors</th>\n",
              "    </tr>\n",
              "  </thead>\n",
              "  <tbody>\n",
              "    <tr>\n",
              "      <th>0</th>\n",
              "      <td>1</td>\n",
              "      <td>Here’s Why Bitcoin is Likely to See Historic V...</td>\n",
              "      <td>Bitcoin’s price action has been incredibly lac...</td>\n",
              "      <td>bitcoin historic volatility daysbitcoin action...</td>\n",
              "      <td>[(bitcoin, NN), (historic, JJ), (volatility, N...</td>\n",
              "      <td>[[Synset('historic.s.01'), Synset('historic.s....</td>\n",
              "    </tr>\n",
              "    <tr>\n",
              "      <th>1</th>\n",
              "      <td>-1</td>\n",
              "      <td>Economist Warns of Warp Speed Dollar Decline, ...</td>\n",
              "      <td>The United States is in turmoil, and the dolla...</td>\n",
              "      <td>economist warn warp decline bitcoin respondthe...</td>\n",
              "      <td>[(economist, NN), (warn, NN), (warp, VBP), (de...</td>\n",
              "      <td>[[Synset('economist.n.01')], [Synset('falsify....</td>\n",
              "    </tr>\n",
              "    <tr>\n",
              "      <th>2</th>\n",
              "      <td>-1</td>\n",
              "      <td>21 Million BTC: How PayPal Active Users Unders...</td>\n",
              "      <td>An over 300 million active register accounts o...</td>\n",
              "      <td>btc paypal active users underscore bitcoin dig...</td>\n",
              "      <td>[(btc, NN), (paypal, JJ), (active, JJ), (users...</td>\n",
              "      <td>[[Synset('active.a.01'), Synset('active.s.02')...</td>\n",
              "    </tr>\n",
              "    <tr>\n",
              "      <th>3</th>\n",
              "      <td>-1</td>\n",
              "      <td>Bitcoin Hesitates But This Technical Breakout ...</td>\n",
              "      <td>Bitcoin started a downside correction from the...</td>\n",
              "      <td>bitcoin hesitates technical breakout suggest g...</td>\n",
              "      <td>[(bitcoin, NN), (hesitates, VBZ), (technical, ...</td>\n",
              "      <td>[[Synset('hesitate.v.01'), Synset('hesitate.v....</td>\n",
              "    </tr>\n",
              "    <tr>\n",
              "      <th>4</th>\n",
              "      <td>1</td>\n",
              "      <td>Here’s Why Bitcoin’s Slow Speed Hasn’t Given R...</td>\n",
              "      <td>Throughout 2017 and 2018, many altcoin-advocat...</td>\n",
              "      <td>bitcoin slow give rise altcoinsthroughout altc...</td>\n",
              "      <td>[(bitcoin, RB), (slow, JJ), (give, VBP), (rise...</td>\n",
              "      <td>[[Synset('slow.a.01'), Synset('slow.a.02'), Sy...</td>\n",
              "    </tr>\n",
              "  </tbody>\n",
              "</table>\n",
              "</div>"
            ],
            "text/plain": [
              "   sentiment  ...                                              Scors\n",
              "0          1  ...  [[Synset('historic.s.01'), Synset('historic.s....\n",
              "1         -1  ...  [[Synset('economist.n.01')], [Synset('falsify....\n",
              "2         -1  ...  [[Synset('active.a.01'), Synset('active.s.02')...\n",
              "3         -1  ...  [[Synset('hesitate.v.01'), Synset('hesitate.v....\n",
              "4          1  ...  [[Synset('slow.a.01'), Synset('slow.a.02'), Sy...\n",
              "\n",
              "[5 rows x 6 columns]"
            ]
          },
          "metadata": {
            "tags": []
          },
          "execution_count": 188
        }
      ]
    },
    {
      "cell_type": "code",
      "metadata": {
        "id": "TbKWUdpqbf-s"
      },
      "source": [
        "#for idx,row in data.iterrows():\r\n",
        " #   print(idx)\r\n",
        "#    row[0] = row[0].replace('rt',' ')\r\n",
        "    \r\n",
        "max_fatures = 2000\r\n",
        "tokenizer = Tokenizer(num_words=max_fatures, split=' ')\r\n",
        "tokenizer.fit_on_texts(data['text'].values)\r\n",
        "X = tokenizer.texts_to_sequences(data['text'].values)\r\n",
        "X = pad_sequences(X)"
      ],
      "execution_count": null,
      "outputs": []
    },
    {
      "cell_type": "code",
      "metadata": {
        "colab": {
          "base_uri": "https://localhost:8080/"
        },
        "id": "37l-MTN_bxOO",
        "outputId": "5346efa4-e49c-4f0c-a509-049e43e0c952"
      },
      "source": [
        "X"
      ],
      "execution_count": null,
      "outputs": [
        {
          "output_type": "execute_result",
          "data": {
            "text/plain": [
              "array([[  0,   0,   0, ...,  63,  60,  16],\n",
              "       [  0,   0,   0, ..., 399, 862,   2],\n",
              "       [  0,   0,   0, ..., 612, 222, 280],\n",
              "       ...,\n",
              "       [  0,   0,   0, ...,   2,   2, 526],\n",
              "       [  0,   0,   0, ...,  79,   6, 197],\n",
              "       [  0,   0,   0, ..., 206, 237, 220]], dtype=int32)"
            ]
          },
          "metadata": {
            "tags": []
          },
          "execution_count": 190
        }
      ]
    },
    {
      "cell_type": "code",
      "metadata": {
        "id": "nLbPMlfVFkZC"
      },
      "source": [
        "Y = pd.get_dummies(data['sentiment']).values"
      ],
      "execution_count": null,
      "outputs": []
    },
    {
      "cell_type": "code",
      "metadata": {
        "id": "F4boBYpV2EE8",
        "colab": {
          "base_uri": "https://localhost:8080/"
        },
        "outputId": "4d0d8a2c-d286-4173-ad9f-ab62f25526a4"
      },
      "source": [
        "X_train, X_test, Y_train, Y_test = train_test_split(X,Y, test_size = 0.33, random_state = 10)\r\n",
        "print(X_train.shape,Y_train.shape)\r\n",
        "print(X_test.shape,Y_test.shape)"
      ],
      "execution_count": null,
      "outputs": [
        {
          "output_type": "stream",
          "text": [
            "(548, 39) (548, 2)\n",
            "(270, 39) (270, 2)\n"
          ],
          "name": "stdout"
        }
      ]
    },
    {
      "cell_type": "markdown",
      "metadata": {
        "id": "KuC2CWtO8vys"
      },
      "source": [
        "#<p dir='rtl'>**مدل سازی با شبکه LSTM**</p>"
      ]
    },
    {
      "cell_type": "code",
      "metadata": {
        "id": "2hgUaSXjFflR",
        "colab": {
          "base_uri": "https://localhost:8080/"
        },
        "outputId": "61a39d71-115d-4efe-ce99-0c9e1c4583b6"
      },
      "source": [
        "embed_dim = 128\r\n",
        "lstm_out = 196\r\n",
        "\r\n",
        "model = Sequential()\r\n",
        "model.add(Embedding(max_fatures, embed_dim,input_length = X.shape[1]))\r\n",
        "model.add(SpatialDropout1D(0.4))\r\n",
        "model.add(LSTM(lstm_out, dropout=0.2, recurrent_dropout=0.2))\r\n",
        "model.add(Dense(2,activation='softmax'))\r\n",
        "model.compile(loss = 'categorical_crossentropy', optimizer='adam',metrics = ['accuracy'])\r\n",
        "print(model.summary())"
      ],
      "execution_count": null,
      "outputs": [
        {
          "output_type": "stream",
          "text": [
            "Model: \"sequential_6\"\n",
            "_________________________________________________________________\n",
            "Layer (type)                 Output Shape              Param #   \n",
            "=================================================================\n",
            "embedding_6 (Embedding)      (None, 39, 128)           256000    \n",
            "_________________________________________________________________\n",
            "spatial_dropout1d_6 (Spatial (None, 39, 128)           0         \n",
            "_________________________________________________________________\n",
            "lstm_6 (LSTM)                (None, 196)               254800    \n",
            "_________________________________________________________________\n",
            "dense_6 (Dense)              (None, 2)                 394       \n",
            "=================================================================\n",
            "Total params: 511,194\n",
            "Trainable params: 511,194\n",
            "Non-trainable params: 0\n",
            "_________________________________________________________________\n",
            "None\n"
          ],
          "name": "stdout"
        }
      ]
    },
    {
      "cell_type": "code",
      "metadata": {
        "id": "K3pe-pkSFnzC",
        "colab": {
          "base_uri": "https://localhost:8080/"
        },
        "outputId": "86600beb-7f80-4448-d7e0-12bb4588fcd5"
      },
      "source": [
        "batch_size = 32\r\n",
        "history=model.fit(X_train, Y_train, epochs = 15, batch_size=batch_size, verbose = 2)"
      ],
      "execution_count": null,
      "outputs": [
        {
          "output_type": "stream",
          "text": [
            "Epoch 1/15\n",
            "18/18 - 6s - loss: 0.6763 - accuracy: 0.6277\n",
            "Epoch 2/15\n",
            "18/18 - 4s - loss: 0.6444 - accuracy: 0.6387\n",
            "Epoch 3/15\n",
            "18/18 - 4s - loss: 0.5982 - accuracy: 0.6496\n",
            "Epoch 4/15\n",
            "18/18 - 4s - loss: 0.4545 - accuracy: 0.7883\n",
            "Epoch 5/15\n",
            "18/18 - 4s - loss: 0.3539 - accuracy: 0.8394\n",
            "Epoch 6/15\n",
            "18/18 - 4s - loss: 0.2540 - accuracy: 0.9234\n",
            "Epoch 7/15\n",
            "18/18 - 4s - loss: 0.2617 - accuracy: 0.9179\n",
            "Epoch 8/15\n",
            "18/18 - 4s - loss: 0.1842 - accuracy: 0.9307\n",
            "Epoch 9/15\n",
            "18/18 - 4s - loss: 0.1044 - accuracy: 0.9672\n",
            "Epoch 10/15\n",
            "18/18 - 4s - loss: 0.0914 - accuracy: 0.9726\n",
            "Epoch 11/15\n",
            "18/18 - 4s - loss: 0.0549 - accuracy: 0.9854\n",
            "Epoch 12/15\n",
            "18/18 - 4s - loss: 0.0330 - accuracy: 0.9909\n",
            "Epoch 13/15\n",
            "18/18 - 4s - loss: 0.0399 - accuracy: 0.9891\n",
            "Epoch 14/15\n",
            "18/18 - 4s - loss: 0.0151 - accuracy: 0.9982\n",
            "Epoch 15/15\n",
            "18/18 - 4s - loss: 0.0519 - accuracy: 0.9927\n"
          ],
          "name": "stdout"
        }
      ]
    },
    {
      "cell_type": "code",
      "metadata": {
        "colab": {
          "base_uri": "https://localhost:8080/"
        },
        "id": "JPIQZfC7TSJe",
        "outputId": "2644d60b-8581-4167-aa4f-43501b084736"
      },
      "source": [
        "print(model.metrics_names)"
      ],
      "execution_count": null,
      "outputs": [
        {
          "output_type": "stream",
          "text": [
            "['loss', 'accuracy']\n"
          ],
          "name": "stdout"
        }
      ]
    },
    {
      "cell_type": "code",
      "metadata": {
        "id": "Gi7EW8P8FtU6"
      },
      "source": [
        "validation_size = 10\r\n",
        "\r\n",
        "X_validate = X_test[-validation_size:]\r\n",
        "Y_validate = Y_test[-validation_size:]\r\n",
        "X_test = X_test[:-validation_size]\r\n",
        "Y_test = Y_test[:-validation_size]\r\n"
      ],
      "execution_count": null,
      "outputs": []
    },
    {
      "cell_type": "code",
      "metadata": {
        "id": "c3gYGWgcHge2",
        "colab": {
          "base_uri": "https://localhost:8080/"
        },
        "outputId": "adf1ac2b-0698-4837-b31f-f8b5a6bcdcf4"
      },
      "source": [
        "#X_test.shape\r\n",
        "score,acc = model.evaluate(X_validate, Y_validate, verbose = 2, batch_size = batch_size)\r\n",
        "print(\"score Validation On LSTM: %.2f\" % (score))\r\n",
        "print(\"acc Validation On LSTM: %.2f\" % (acc))"
      ],
      "execution_count": null,
      "outputs": [
        {
          "output_type": "stream",
          "text": [
            "1/1 - 0s - loss: 0.9855 - accuracy: 0.7000\n",
            "score Validation On LSTM: 0.99\n",
            "acc Validation On LSTM: 0.70\n"
          ],
          "name": "stdout"
        }
      ]
    },
    {
      "cell_type": "code",
      "metadata": {
        "id": "kzizXWiuHIRj",
        "colab": {
          "base_uri": "https://localhost:8080/"
        },
        "outputId": "72506985-14dc-463f-ec2a-83d5d153ef28"
      },
      "source": [
        "score,acc = model.evaluate(X_test, Y_test, verbose = 2, batch_size = batch_size)\r\n",
        "print(\"score Test On LSTM: %.2f\" % (score))\r\n",
        "print(\"acc Test On LSTM: %.2f\" % (acc))"
      ],
      "execution_count": null,
      "outputs": [
        {
          "output_type": "stream",
          "text": [
            "9/9 - 0s - loss: 2.5769 - accuracy: 0.5346\n",
            "score Test On LSTM: 2.58\n",
            "acc Test On LSTM: 0.53\n"
          ],
          "name": "stdout"
        }
      ]
    },
    {
      "cell_type": "code",
      "metadata": {
        "id": "q7OwWbOG9lPj",
        "colab": {
          "base_uri": "https://localhost:8080/"
        },
        "outputId": "55e26ee8-1119-43b2-f5c0-63b87e2c38e3"
      },
      "source": [
        "pos_cnt, neg_cnt, pos_correct, neg_correct = 0, 0, 0, 0\r\n",
        "for x in range(len(X_validate)):\r\n",
        "    \r\n",
        "    result = model.predict(X_validate[x].reshape(1,X_test.shape[1]),batch_size=1,verbose = 2)[0]\r\n",
        "   \r\n",
        "    if np.argmax(result) == np.argmax(Y_validate[x]):\r\n",
        "        if np.argmax(Y_validate[x]) == 0:\r\n",
        "            neg_correct += 1\r\n",
        "        else:\r\n",
        "            pos_correct += 1\r\n",
        "       \r\n",
        "    if np.argmax(Y_validate[x]) == 0:\r\n",
        "        neg_cnt += 1\r\n",
        "    else:\r\n",
        "        pos_cnt += 1\r\n",
        "\r\n",
        "\r\n",
        "\r\n",
        "print(\"pos_acc\", pos_correct/pos_cnt*100, \"%\")\r\n",
        "print(\"neg_acc\", neg_correct/neg_cnt*100, \"%\")"
      ],
      "execution_count": null,
      "outputs": [
        {
          "output_type": "stream",
          "text": [
            "1/1 - 0s\n",
            "1/1 - 0s\n",
            "1/1 - 0s\n",
            "1/1 - 0s\n",
            "1/1 - 0s\n",
            "1/1 - 0s\n",
            "1/1 - 0s\n",
            "1/1 - 0s\n",
            "1/1 - 0s\n",
            "1/1 - 0s\n",
            "pos_acc 83.33333333333334 %\n",
            "neg_acc 50.0 %\n"
          ],
          "name": "stdout"
        }
      ]
    },
    {
      "cell_type": "markdown",
      "metadata": {
        "id": "nkJpoFQd8-QJ"
      },
      "source": [
        "#####<p dir='rtl'>**تست مدل**"
      ]
    },
    {
      "cell_type": "code",
      "metadata": {
        "id": "OctlAV7gtSjo"
      },
      "source": [
        "# evaluate the model\r\n",
        "_, train_acc = model.evaluate(X_train, Y_train, verbose=0)\r\n",
        "_, test_acc = model.evaluate(X_test, Y_test, verbose=0)"
      ],
      "execution_count": null,
      "outputs": []
    },
    {
      "cell_type": "code",
      "metadata": {
        "id": "u66r7r1wt5o8",
        "colab": {
          "base_uri": "https://localhost:8080/",
          "height": 182
        },
        "outputId": "b3c5364a-908e-4c55-eff1-10136c1049b6"
      },
      "source": [
        "# plot loss during training\r\n",
        "pyplot.subplot(211)\r\n",
        "pyplot.title('Loss')\r\n",
        "pyplot.plot(history.history['loss'], label='train')\r\n",
        "pyplot.legend()\r\n"
      ],
      "execution_count": null,
      "outputs": [
        {
          "output_type": "execute_result",
          "data": {
            "text/plain": [
              "<matplotlib.legend.Legend at 0x7f560cdc7400>"
            ]
          },
          "metadata": {
            "tags": []
          },
          "execution_count": 201
        },
        {
          "output_type": "display_data",
          "data": {
            "image/png": "[encoded data removed]",
            "text/plain": [
              "<Figure size 432x288 with 1 Axes>"
            ]
          },
          "metadata": {
            "tags": [],
            "needs_background": "light"
          }
        }
      ]
    },
    {
      "cell_type": "code",
      "metadata": {
        "id": "QiweHyD72GQI",
        "colab": {
          "base_uri": "https://localhost:8080/",
          "height": 163
        },
        "outputId": "4cd27888-9728-4d96-f953-4d06a332006c"
      },
      "source": [
        "# plot accuracy during training\r\n",
        "pyplot.subplot(212)\r\n",
        "pyplot.title('Accuracy')\r\n",
        "pyplot.plot(history.history['accuracy'], label='train')\r\n",
        "pyplot.legend()\r\n",
        "pyplot.show()"
      ],
      "execution_count": null,
      "outputs": [
        {
          "output_type": "display_data",
          "data": {
            "image/png": "[encoded data removed]",
            "text/plain": [
              "<Figure size 432x288 with 1 Axes>"
            ]
          },
          "metadata": {
            "tags": [],
            "needs_background": "light"
          }
        }
      ]
    },
    {
      "cell_type": "code",
      "metadata": {
        "id": "USzSuIuJOKl0",
        "colab": {
          "base_uri": "https://localhost:8080/",
          "height": 787
        },
        "outputId": "5ec030a3-76c3-469c-8c34-d52c65eb74b3"
      },
      "source": [
        "\r\n",
        "print(\"\\n------------Confusion_Matrix-----------\\n\")\r\n",
        "y_pred = model.predict(X_test)\r\n",
        "\r\n",
        "cf_matrix= confusion_matrix(Y_test.argmax(axis=1),y_pred.argmax(axis=1))\r\n",
        "#cf_matrix=confusion_matrix(Y_test,y_pred)\r\n",
        "print(cf_matrix)\r\n",
        "print(\"\\n------------Macro-----------\\n\")\r\n",
        "print(\"Precision Score : \",precision_score(Y_test.argmax(axis=1),y_pred.argmax(axis=1),pos_label=1,average='macro'))\r\n",
        "print(\"Recall Score :\" , recall_score(Y_test.argmax(axis=1),y_pred.argmax(axis=1), pos_label=1,average='macro') )\r\n",
        "print(\"\\n------------Micro-----------\\n\")\r\n",
        "print(\"Precision Score : \",precision_score(Y_test.argmax(axis=1),y_pred.argmax(axis=1),pos_label=1,average='micro'))\r\n",
        "print(\"Recall Score :\" , recall_score(Y_test.argmax(axis=1),y_pred.argmax(axis=1), pos_label=1,average='micro') )\r\n",
        "print(\"\\n------------Weighted-----------\\n\")\r\n",
        "print(\"Precision Score : \",precision_score(Y_test.argmax(axis=1),y_pred.argmax(axis=1),pos_label=1,average='weighted'))\r\n",
        "print(\"Recall Score :\" , recall_score(Y_test.argmax(axis=1),y_pred.argmax(axis=1), pos_label=1,average='weighted') )\r\n",
        "\r\n",
        "print('\\n\\n------------F1_Score----------\\n')\r\n",
        "print(\"F1_Score :\",f1_score(Y_test.argmax(axis=1),y_pred.argmax(axis=1), pos_label=1,average='weighted'),\"\\n------------------------\\n\")\r\n",
        "\r\n",
        "import seaborn as sns\r\n",
        "sns.heatmap(cf_matrix, annot=True)"
      ],
      "execution_count": null,
      "outputs": [
        {
          "output_type": "stream",
          "text": [
            "\n",
            "------------Confusion_Matrix-----------\n",
            "\n",
            "[[ 28  78]\n",
            " [ 43 111]]\n",
            "\n",
            "------------Macro-----------\n",
            "\n",
            "Precision Score :  0.490833892242343\n",
            "Recall Score : 0.49246508208772355\n",
            "\n",
            "------------Micro-----------\n",
            "\n",
            "Precision Score :  0.5346153846153846\n",
            "Recall Score : 0.5346153846153846\n",
            "\n",
            "------------Weighted-----------\n",
            "\n",
            "Precision Score :  0.508643312868665\n",
            "Recall Score : 0.5346153846153846\n",
            "\n",
            "\n",
            "------------F1_Score----------\n",
            "\n",
            "F1_Score : 0.5123468944292189 \n",
            "------------------------\n",
            "\n"
          ],
          "name": "stdout"
        },
        {
          "output_type": "execute_result",
          "data": {
            "text/plain": [
              "<matplotlib.axes._subplots.AxesSubplot at 0x7f560ce0ae80>"
            ]
          },
          "metadata": {
            "tags": []
          },
          "execution_count": 203
        },
        {
          "output_type": "display_data",
          "data": {
            "image/png": "[encoded data removed]",
            "text/plain": [
              "<Figure size 432x288 with 2 Axes>"
            ]
          },
          "metadata": {
            "tags": [],
            "needs_background": "light"
          }
        }
      ]
    },
    {
      "cell_type": "code",
      "metadata": {
        "id": "NZizzjEUNT9b",
        "colab": {
          "base_uri": "https://localhost:8080/"
        },
        "outputId": "a48d08d2-4bf8-40e1-b58b-018ef3c6bc69"
      },
      "source": [
        "twt = ['Here’s Why Bitcoin is Likely to See Historic.']\r\n",
        "#vectorizing the tweet by the pre-fitted tokenizer instance\r\n",
        "twt = tokenizer.texts_to_sequences(twt)\r\n",
        "#padding the tweet to have exactly the same shape as `embedding_2` input\r\n",
        "twt = pad_sequences(twt, maxlen=28, dtype='int32', value=0)\r\n",
        "print(twt)\r\n",
        "sentiment = model.predict(twt,batch_size=1,verbose = 2)[0]\r\n",
        "if(np.argmax(sentiment) == 0):\r\n",
        "    print(\"negative\")\r\n",
        "elif (np.argmax(sentiment) == 1):\r\n",
        "    print(\"positive\")"
      ],
      "execution_count": null,
      "outputs": [
        {
          "output_type": "stream",
          "text": [
            "[[  0   0   0   0   0   0   0   0   0   0   0   0   0   0   0   0   0   0\n",
            "    0   0   0   0   0   0   0   0   1 715]]\n",
            "1/1 - 0s\n",
            "negative\n"
          ],
          "name": "stdout"
        }
      ]
    },
    {
      "cell_type": "markdown",
      "metadata": {
        "id": "F_WzZ9xWEV3H"
      },
      "source": [
        "#**<p dir='rtl'> مدل سازی با SVM**"
      ]
    },
    {
      "cell_type": "code",
      "metadata": {
        "colab": {
          "base_uri": "https://localhost:8080/"
        },
        "id": "zLbeBTbmc_dk",
        "outputId": "e07099d6-7848-49a7-d3b5-d9b90958176a"
      },
      "source": [
        "from sklearn.svm import LinearSVC\r\n",
        "model1 = LinearSVC()\r\n",
        "X_train, X_test, y_train, y_test, indices_train, indices_test = train_test_split(X,data.sentiment, data.index, test_size=0.33, random_state=0)\r\n",
        "model1.fit(X_train, y_train)\r\n",
        "y_pred = model1.predict(X_test)\r\n"
      ],
      "execution_count": null,
      "outputs": [
        {
          "output_type": "stream",
          "text": [
            "/usr/local/lib/python3.6/dist-packages/sklearn/svm/_base.py:947: ConvergenceWarning: Liblinear failed to converge, increase the number of iterations.\n",
            "  \"the number of iterations.\", ConvergenceWarning)\n"
          ],
          "name": "stderr"
        }
      ]
    },
    {
      "cell_type": "code",
      "metadata": {
        "colab": {
          "base_uri": "https://localhost:8080/",
          "height": 284
        },
        "id": "yPvfMByxeZCO",
        "outputId": "8def7ba7-003e-4992-8155-d94b15857869"
      },
      "source": [
        "import seaborn as sns\r\n",
        "conf_mat = confusion_matrix(y_test, y_pred)\r\n",
        "sns.heatmap(conf_mat, annot=True)"
      ],
      "execution_count": null,
      "outputs": [
        {
          "output_type": "execute_result",
          "data": {
            "text/plain": [
              "<matplotlib.axes._subplots.AxesSubplot at 0x7f56866dbf60>"
            ]
          },
          "metadata": {
            "tags": []
          },
          "execution_count": 206
        },
        {
          "output_type": "display_data",
          "data": {
            "image/png": "[encoded data removed]",
            "text/plain": [
              "<Figure size 432x288 with 2 Axes>"
            ]
          },
          "metadata": {
            "tags": [],
            "needs_background": "light"
          }
        }
      ]
    }
  ]
}