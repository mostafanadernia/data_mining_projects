{
  "nbformat": 4,
  "nbformat_minor": 0,
  "metadata": {
    "colab": {
      "name": "NaderNia_Final(4).ipynb",
      "provenance": [],
      "collapsed_sections": [],
      "toc_visible": true,
      "include_colab_link": true
    },
    "kernelspec": {
      "display_name": "Python 3",
      "name": "python3"
    }
  },
  "cells": [
    {
      "cell_type": "markdown",
      "metadata": {
        "id": "view-in-github",
        "colab_type": "text"
      },
      "source": [
        "<a href=\"https://colab.research.google.com/github/mostafanadernia/data_mining_projects/blob/main/NaderNia_Final(4).ipynb\" target=\"_parent\"><img src=\"https://colab.research.google.com/assets/colab-badge.svg\" alt=\"Open In Colab\"/></a>"
      ]
    },
    {
      "cell_type": "markdown",
      "metadata": {
        "id": "hhbdTe1ukHaJ"
      },
      "source": [
        "#<p dir='rtl'>**کتابخانه ها**</p>"
      ]
    },
    {
      "cell_type": "code",
      "metadata": {
        "id": "Bv1LkNubFFhg"
      },
      "source": [
        "from nltk.corpus import sentiwordnet as swn\r\n",
        "from nltk.corpus import wordnet as wn\r\n",
        "from sklearn.naive_bayes import MultinomialNB\r\n",
        "from matplotlib import pyplot\r\n",
        "\r\n",
        "from nltk.stem.wordnet import WordNetLemmatizer\r\n",
        "import numpy as np # linear algebra\r\n",
        "import pandas as pd # data processing, CSV file I/O (e.g. pd.read_csv)\r\n",
        "import spacy\r\n",
        "import nltk\r\n",
        "import string\r\n",
        "from nltk.corpus import stopwords\r\n",
        "from nltk import word_tokenize, pos_tag\r\n",
        "\r\n",
        "\r\n",
        "from sklearn.metrics import confusion_matrix,f1_score, precision_score,recall_score\r\n",
        "\r\n",
        "from sklearn.feature_extraction.text import CountVectorizer\r\n",
        "from keras.preprocessing.text import Tokenizer\r\n",
        "from keras.preprocessing.sequence import pad_sequences\r\n",
        "from keras.models import Sequential\r\n",
        "from keras.layers import Dense, Embedding, LSTM, SpatialDropout1D\r\n",
        "from sklearn.model_selection import train_test_split\r\n",
        "from keras.utils.np_utils import to_categorical\r\n",
        "import re\r\n",
        "\r\n",
        "# Input data files are available in the \"../input/\" directory.\r\n",
        "# For example, running this (by clicking run or pressing Shift+Enter) will list the files in the input directory"
      ],
      "execution_count": 1,
      "outputs": []
    },
    {
      "cell_type": "code",
      "metadata": {
        "colab": {
          "base_uri": "https://localhost:8080/"
        },
        "id": "bGZ7AZdKjk39",
        "outputId": "dfc1b37b-38b5-4af1-9b7d-ea87b35afdf5"
      },
      "source": [
        "import nltk\r\n",
        "nltk.download('stopwords')\r\n",
        "nltk.download('punkt')\r\n",
        "nltk.download('wordnet')\r\n",
        "nltk.download('averaged_perceptron_tagger')\r\n",
        "nltk.download('sentiwordnet')"
      ],
      "execution_count": 2,
      "outputs": [
        {
          "output_type": "stream",
          "text": [
            "[nltk_data] Downloading package stopwords to /root/nltk_data...\n",
            "[nltk_data]   Unzipping corpora/stopwords.zip.\n",
            "[nltk_data] Downloading package punkt to /root/nltk_data...\n",
            "[nltk_data]   Unzipping tokenizers/punkt.zip.\n",
            "[nltk_data] Downloading package wordnet to /root/nltk_data...\n",
            "[nltk_data]   Unzipping corpora/wordnet.zip.\n",
            "[nltk_data] Downloading package averaged_perceptron_tagger to\n",
            "[nltk_data]     /root/nltk_data...\n",
            "[nltk_data]   Unzipping taggers/averaged_perceptron_tagger.zip.\n",
            "[nltk_data] Downloading package sentiwordnet to /root/nltk_data...\n",
            "[nltk_data]   Unzipping corpora/sentiwordnet.zip.\n"
          ],
          "name": "stdout"
        },
        {
          "output_type": "execute_result",
          "data": {
            "text/plain": [
              "True"
            ]
          },
          "metadata": {
            "tags": []
          },
          "execution_count": 2
        }
      ]
    },
    {
      "cell_type": "markdown",
      "metadata": {
        "id": "3r1hayjL7wUA"
      },
      "source": [
        "#<p dir='rtl'>**فراخوانی داده ها و استفاده از آن ها**"
      ]
    },
    {
      "cell_type": "markdown",
      "metadata": {
        "id": "9ePjlFshbFXp"
      },
      "source": [
        "<p dir='rtl'>\r\n",
        "در فیلد پایین باید بر اساس مسیر قرار گیری فایل ها تغییرات مسیردهی را اعمال کرد.\r\n",
        "</p>"
      ]
    },
    {
      "cell_type": "code",
      "metadata": {
        "id": "OSLchhdmFKQr"
      },
      "source": [
        "data = pd.read_csv('/content/BTCUSDnews_Nadernia_1.csv',encoding='cp1252')\r\n",
        "# Keeping only the neccessary columns\r\n",
        "data = data[['Tags','title','articleBody']]\r\n",
        "data['text']=data['title']+data['articleBody']"
      ],
      "execution_count": 3,
      "outputs": []
    },
    {
      "cell_type": "markdown",
      "metadata": {
        "id": "s5CKlsRuW5Ed"
      },
      "source": [
        "<p dir='rtl'>\r\n",
        "در فیلد بالا اگر دستور زیر قرار داده شود مدل به روی نظرات آموزش داده میشود و بار احساسی بر اساس کلمات در نظرات مشخص میشود\r\n",
        "</p>\r\n",
        "\r\n",
        "```\r\n",
        "data['text']=data['articleBody']\r\n",
        "```\r\n",
        "<p dir='rtl'>\r\n",
        "اگر دستور زیر قرار داده شود بار احساسی عنوان خبر در نظر گرفته میشود \r\n",
        "</p>\r\n",
        "\r\n",
        "```\r\n",
        "data['text']=data['title']\r\n",
        "```"
      ]
    },
    {
      "cell_type": "code",
      "metadata": {
        "id": "GzNkBO4Oh2km"
      },
      "source": [
        "#import other lists of stopwords\r\n",
        "with open('/content/StopWords_GenericLong.txt', 'r') as f:\r\n",
        " x_gl = f.readlines()\r\n",
        "with open('/content/StopWords_Names.txt', 'r') as f:\r\n",
        " x_n = f.readlines()\r\n",
        "with open('/content/StopWords_DatesandNumbers.txt', 'r') as f:\r\n",
        " x_d = f.readlines()\r\n",
        "#import nltk stopwords\r\n",
        "stopwords = nltk.corpus.stopwords.words('english')#combine all stopwords\r\n",
        "[stopwords.append(x.rstrip()) for x in x_gl]\r\n",
        "[stopwords.append(x.rstrip()) for x in x_n]\r\n",
        "[stopwords.append(x.rstrip()) for x in x_d]\r\n",
        "#change all stopwords into lowercase\r\n",
        "stopwords_lower = [s.lower() for s in stopwords]"
      ],
      "execution_count": 4,
      "outputs": []
    },
    {
      "cell_type": "markdown",
      "metadata": {
        "id": "YhUqz9BP8D5-"
      },
      "source": [
        "#<p dir='rtl'>**پیش پردازش داده**"
      ]
    },
    {
      "cell_type": "code",
      "metadata": {
        "id": "VI1ZPHdtBpg-"
      },
      "source": [
        "nlp = spacy.load('en', disable=['parser', 'ner'])"
      ],
      "execution_count": 5,
      "outputs": []
    },
    {
      "cell_type": "code",
      "metadata": {
        "id": "OhLV6efo-8HZ"
      },
      "source": [
        "def lemmaz(str_input):      #tokenization, remove punctuation, lemmatization\r\n",
        "     words=[token.lemma_ for token in nlp(str_input) if not token.is_punct]\r\n",
        "\r\n",
        " \r\n",
        "     # remove symbols, websites, email addresses \r\n",
        "     words = [re.sub(r\"[^A-Za-z@]\", \"\", word) for word in words] \r\n",
        "     words = [re.sub(r\"\\S+com\", \"\", word) for word in words]\r\n",
        "     words = [re.sub(r\"\\S+@\\S+\", \"\", word) for word in words] \r\n",
        "     words = [word for word in words if word!=' ']\r\n",
        "     words = [word for word in words if len(word)!=0] \r\n",
        " \r\n",
        "     #remove stopwords     \r\n",
        "     words=[word.lower() for word in words if word.lower() not in stopwords_lower]\r\n",
        "     #combine a list into one string \r\n",
        "       \r\n",
        "     string = \" \".join(words)    \r\n",
        "      \r\n",
        "     return string"
      ],
      "execution_count": 6,
      "outputs": []
    },
    {
      "cell_type": "code",
      "metadata": {
        "id": "quwDVom8E2dW"
      },
      "source": [
        "def Score_preprocessing(sentence):\r\n",
        "  words = word_tokenize(sentence)\r\n",
        "  tags = pos_tag(words)\r\n",
        "  return tags"
      ],
      "execution_count": 7,
      "outputs": []
    },
    {
      "cell_type": "code",
      "metadata": {
        "id": "kBJVQTMXFDgT"
      },
      "source": [
        "def penn_to_wn(tag):\r\n",
        "    tag=tag[1]\r\n",
        "#Convert between the PennTreebank tags to simple Wordnet tags\r\n",
        "    if tag.startswith('J'):\r\n",
        "        return wn.ADJ\r\n",
        "    elif tag.startswith('N'):\r\n",
        "        return wn.NOUN\r\n",
        "    elif tag.startswith('R'):\r\n",
        "        return wn.ADV\r\n",
        "    elif tag.startswith('V'):\r\n",
        "        return wn.VERB\r\n",
        "    return None\r\n",
        "\r\n",
        "def PAENN(Tag):\r\n",
        "  list1=[]\r\n",
        "  lemmatizer = WordNetLemmatizer()\r\n",
        "  i=0\r\n",
        "  while i < len(Tag):\r\n",
        "    wn_tag=penn_to_wn(Tag[i])\r\n",
        "    word = Tag[i][0]\r\n",
        "    if wn_tag != None:\r\n",
        "      lemma = lemmatizer.lemmatize(word, pos=wn_tag)\r\n",
        "      synsets = wn.synsets(lemma, pos=wn_tag)\r\n",
        "      if synsets != []:\r\n",
        "        list1.append(synsets)\r\n",
        "    i+=1\r\n",
        "  return list1"
      ],
      "execution_count": 8,
      "outputs": []
    },
    {
      "cell_type": "code",
      "metadata": {
        "id": "k7lWlxjBFYC_"
      },
      "source": [
        "def Scores_Syns(synsets):\r\n",
        "  result=[]\r\n",
        "  i=0\r\n",
        "  while i< len(synsets):\r\n",
        "    posi=[]\r\n",
        "    if synsets != []:\r\n",
        "      synset = synsets[i][0]\r\n",
        "      swn_synset = swn.senti_synset(synset.name())\r\n",
        "      posi.append(swn_synset.pos_score())\r\n",
        "      posi.append(swn_synset.neg_score())\r\n",
        "      posi.append(swn_synset.pos_score() - swn_synset.neg_score())\r\n",
        "    result.append(posi)\r\n",
        "    i+=1\r\n",
        "  return result"
      ],
      "execution_count": 9,
      "outputs": []
    },
    {
      "cell_type": "code",
      "metadata": {
        "id": "0vHpv3IVFbNI",
        "colab": {
          "base_uri": "https://localhost:8080/"
        },
        "outputId": "582b17b0-ae7e-4b5d-a02e-a1f08c7b766a"
      },
      "source": [
        "data = data[data.Tags != 0]\r\n",
        "data['text']=data['text'].apply(lemmaz)\r\n",
        "data['sentiment']=data['text'].apply(Score_preprocessing)\r\n",
        "data['Scors']=data['sentiment'].apply(lambda x: PAENN(x))\r\n",
        "print(\"Word is Pos:\",data[ data['Tags'] == 1].size)\r\n",
        "print(\"Word is Neg:\",data[ data['Tags'] == -1].size)\r\n",
        "\r\n"
      ],
      "execution_count": 10,
      "outputs": [
        {
          "output_type": "stream",
          "text": [
            "Word is Pos: 3060\n",
            "Word is Neg: 1848\n"
          ],
          "name": "stdout"
        }
      ]
    },
    {
      "cell_type": "code",
      "metadata": {
        "id": "gQYIx815-qCZ",
        "colab": {
          "base_uri": "https://localhost:8080/",
          "height": 293
        },
        "outputId": "fdf6b863-cf52-4cc9-d221-68b9eadd1b07"
      },
      "source": [
        "data.head(5)"
      ],
      "execution_count": 11,
      "outputs": [
        {
          "output_type": "execute_result",
          "data": {
            "text/html": [
              "<div>\n",
              "<style scoped>\n",
              "    .dataframe tbody tr th:only-of-type {\n",
              "        vertical-align: middle;\n",
              "    }\n",
              "\n",
              "    .dataframe tbody tr th {\n",
              "        vertical-align: top;\n",
              "    }\n",
              "\n",
              "    .dataframe thead th {\n",
              "        text-align: right;\n",
              "    }\n",
              "</style>\n",
              "<table border=\"1\" class=\"dataframe\">\n",
              "  <thead>\n",
              "    <tr style=\"text-align: right;\">\n",
              "      <th></th>\n",
              "      <th>Tags</th>\n",
              "      <th>title</th>\n",
              "      <th>articleBody</th>\n",
              "      <th>text</th>\n",
              "      <th>sentiment</th>\n",
              "      <th>Scors</th>\n",
              "    </tr>\n",
              "  </thead>\n",
              "  <tbody>\n",
              "    <tr>\n",
              "      <th>0</th>\n",
              "      <td>1</td>\n",
              "      <td>Here’s Why Bitcoin is Likely to See Historic V...</td>\n",
              "      <td>Bitcoin’s price action has been incredibly lac...</td>\n",
              "      <td>bitcoin historic volatility daysbitcoin action...</td>\n",
              "      <td>[(bitcoin, NN), (historic, JJ), (volatility, N...</td>\n",
              "      <td>[[Synset('historic.s.01'), Synset('historic.s....</td>\n",
              "    </tr>\n",
              "    <tr>\n",
              "      <th>1</th>\n",
              "      <td>-1</td>\n",
              "      <td>Economist Warns of Warp Speed Dollar Decline, ...</td>\n",
              "      <td>The United States is in turmoil, and the dolla...</td>\n",
              "      <td>economist warn warp decline bitcoin respondthe...</td>\n",
              "      <td>[(economist, NN), (warn, NN), (warp, VBP), (de...</td>\n",
              "      <td>[[Synset('economist.n.01')], [Synset('falsify....</td>\n",
              "    </tr>\n",
              "    <tr>\n",
              "      <th>2</th>\n",
              "      <td>-1</td>\n",
              "      <td>21 Million BTC: How PayPal Active Users Unders...</td>\n",
              "      <td>An over 300 million active register accounts o...</td>\n",
              "      <td>btc paypal active users underscore bitcoin dig...</td>\n",
              "      <td>[(btc, NN), (paypal, JJ), (active, JJ), (users...</td>\n",
              "      <td>[[Synset('active.a.01'), Synset('active.s.02')...</td>\n",
              "    </tr>\n",
              "    <tr>\n",
              "      <th>3</th>\n",
              "      <td>-1</td>\n",
              "      <td>Bitcoin Hesitates But This Technical Breakout ...</td>\n",
              "      <td>Bitcoin started a downside correction from the...</td>\n",
              "      <td>bitcoin hesitates technical breakout suggest g...</td>\n",
              "      <td>[(bitcoin, NN), (hesitates, VBZ), (technical, ...</td>\n",
              "      <td>[[Synset('hesitate.v.01'), Synset('hesitate.v....</td>\n",
              "    </tr>\n",
              "    <tr>\n",
              "      <th>4</th>\n",
              "      <td>1</td>\n",
              "      <td>Here’s Why Bitcoin’s Slow Speed Hasn’t Given R...</td>\n",
              "      <td>Throughout 2017 and 2018, many altcoin-advocat...</td>\n",
              "      <td>bitcoin slow give rise altcoinsthroughout altc...</td>\n",
              "      <td>[(bitcoin, RB), (slow, JJ), (give, VBP), (rise...</td>\n",
              "      <td>[[Synset('slow.a.01'), Synset('slow.a.02'), Sy...</td>\n",
              "    </tr>\n",
              "  </tbody>\n",
              "</table>\n",
              "</div>"
            ],
            "text/plain": [
              "   Tags  ...                                              Scors\n",
              "0     1  ...  [[Synset('historic.s.01'), Synset('historic.s....\n",
              "1    -1  ...  [[Synset('economist.n.01')], [Synset('falsify....\n",
              "2    -1  ...  [[Synset('active.a.01'), Synset('active.s.02')...\n",
              "3    -1  ...  [[Synset('hesitate.v.01'), Synset('hesitate.v....\n",
              "4     1  ...  [[Synset('slow.a.01'), Synset('slow.a.02'), Sy...\n",
              "\n",
              "[5 rows x 6 columns]"
            ]
          },
          "metadata": {
            "tags": []
          },
          "execution_count": 11
        }
      ]
    },
    {
      "cell_type": "code",
      "metadata": {
        "id": "TbKWUdpqbf-s"
      },
      "source": [
        "#for idx,row in data.iterrows():\r\n",
        " #   print(idx)\r\n",
        "#    row[0] = row[0].replace('rt',' ')\r\n",
        "    \r\n",
        "max_fatures = 2000\r\n",
        "tokenizer = Tokenizer(num_words=max_fatures, split=' ')\r\n",
        "tokenizer.fit_on_texts(data['text'].values)\r\n",
        "X = tokenizer.texts_to_sequences(data['text'].values)\r\n",
        "X = pad_sequences(X)"
      ],
      "execution_count": 12,
      "outputs": []
    },
    {
      "cell_type": "code",
      "metadata": {
        "id": "37l-MTN_bxOO",
        "colab": {
          "base_uri": "https://localhost:8080/"
        },
        "outputId": "da90fb1a-da13-488e-8cb5-5b902cad552b"
      },
      "source": [
        "X"
      ],
      "execution_count": 13,
      "outputs": [
        {
          "output_type": "execute_result",
          "data": {
            "text/plain": [
              "array([[  0,   0,   0, ...,  63,  60,  16],\n",
              "       [  0,   0,   0, ..., 399, 862,   2],\n",
              "       [  0,   0,   0, ..., 612, 222, 280],\n",
              "       ...,\n",
              "       [  0,   0,   0, ...,   2,   2, 526],\n",
              "       [  0,   0,   0, ...,  79,   6, 197],\n",
              "       [  0,   0,   0, ..., 206, 237, 220]], dtype=int32)"
            ]
          },
          "metadata": {
            "tags": []
          },
          "execution_count": 13
        }
      ]
    },
    {
      "cell_type": "code",
      "metadata": {
        "id": "nLbPMlfVFkZC"
      },
      "source": [
        "Y = pd.get_dummies(data['Tags']).values"
      ],
      "execution_count": 14,
      "outputs": []
    },
    {
      "cell_type": "code",
      "metadata": {
        "id": "F4boBYpV2EE8",
        "colab": {
          "base_uri": "https://localhost:8080/"
        },
        "outputId": "d33c86bf-7c75-4d21-c9fb-543a1ad0f881"
      },
      "source": [
        "X_train, X_test, Y_train, Y_test = train_test_split(X,Y, test_size = 0.33, random_state = 10)\r\n",
        "print(X_train.shape,Y_train.shape)\r\n",
        "print(X_test.shape,Y_test.shape)"
      ],
      "execution_count": 15,
      "outputs": [
        {
          "output_type": "stream",
          "text": [
            "(548, 39) (548, 2)\n",
            "(270, 39) (270, 2)\n"
          ],
          "name": "stdout"
        }
      ]
    },
    {
      "cell_type": "markdown",
      "metadata": {
        "id": "KuC2CWtO8vys"
      },
      "source": [
        "#<p dir='rtl'>**مدل سازی با شبکه LSTM**</p>"
      ]
    },
    {
      "cell_type": "code",
      "metadata": {
        "id": "2hgUaSXjFflR",
        "colab": {
          "base_uri": "https://localhost:8080/"
        },
        "outputId": "4fba9301-5880-4ccb-989b-34c747442ff0"
      },
      "source": [
        "embed_dim = 128\r\n",
        "lstm_out = 196\r\n",
        "\r\n",
        "model = Sequential()\r\n",
        "model.add(Embedding(max_fatures, embed_dim,input_length = X.shape[1]))\r\n",
        "model.add(SpatialDropout1D(0.4))\r\n",
        "model.add(LSTM(lstm_out, dropout=0.2, recurrent_dropout=0.2))\r\n",
        "model.add(Dense(2,activation='softmax'))\r\n",
        "model.compile(loss = 'categorical_crossentropy', optimizer='adam',metrics = ['accuracy'])\r\n",
        "print(model.summary())"
      ],
      "execution_count": 16,
      "outputs": [
        {
          "output_type": "stream",
          "text": [
            "Model: \"sequential\"\n",
            "_________________________________________________________________\n",
            "Layer (type)                 Output Shape              Param #   \n",
            "=================================================================\n",
            "embedding (Embedding)        (None, 39, 128)           256000    \n",
            "_________________________________________________________________\n",
            "spatial_dropout1d (SpatialDr (None, 39, 128)           0         \n",
            "_________________________________________________________________\n",
            "lstm (LSTM)                  (None, 196)               254800    \n",
            "_________________________________________________________________\n",
            "dense (Dense)                (None, 2)                 394       \n",
            "=================================================================\n",
            "Total params: 511,194\n",
            "Trainable params: 511,194\n",
            "Non-trainable params: 0\n",
            "_________________________________________________________________\n",
            "None\n"
          ],
          "name": "stdout"
        }
      ]
    },
    {
      "cell_type": "code",
      "metadata": {
        "id": "K3pe-pkSFnzC",
        "colab": {
          "base_uri": "https://localhost:8080/"
        },
        "outputId": "21d5e30a-885c-43c7-f8c2-e20cd78bb899"
      },
      "source": [
        "batch_size = 32\r\n",
        "history=model.fit(X_train, Y_train, epochs = 15, batch_size=batch_size, verbose = 2)"
      ],
      "execution_count": 17,
      "outputs": [
        {
          "output_type": "stream",
          "text": [
            "Epoch 1/15\n",
            "18/18 - 6s - loss: 0.6736 - accuracy: 0.6259\n",
            "Epoch 2/15\n",
            "18/18 - 4s - loss: 0.6367 - accuracy: 0.6387\n",
            "Epoch 3/15\n",
            "18/18 - 4s - loss: 0.5906 - accuracy: 0.6843\n",
            "Epoch 4/15\n",
            "18/18 - 4s - loss: 0.4224 - accuracy: 0.8066\n",
            "Epoch 5/15\n",
            "18/18 - 4s - loss: 0.4116 - accuracy: 0.8412\n",
            "Epoch 6/15\n",
            "18/18 - 4s - loss: 0.2604 - accuracy: 0.9088\n",
            "Epoch 7/15\n",
            "18/18 - 4s - loss: 0.1822 - accuracy: 0.9489\n",
            "Epoch 8/15\n",
            "18/18 - 4s - loss: 0.1139 - accuracy: 0.9617\n",
            "Epoch 9/15\n",
            "18/18 - 4s - loss: 0.0805 - accuracy: 0.9745\n",
            "Epoch 10/15\n",
            "18/18 - 4s - loss: 0.0519 - accuracy: 0.9836\n",
            "Epoch 11/15\n",
            "18/18 - 4s - loss: 0.0329 - accuracy: 0.9891\n",
            "Epoch 12/15\n",
            "18/18 - 4s - loss: 0.0632 - accuracy: 0.9872\n",
            "Epoch 13/15\n",
            "18/18 - 4s - loss: 0.0354 - accuracy: 0.9945\n",
            "Epoch 14/15\n",
            "18/18 - 4s - loss: 0.0212 - accuracy: 0.9927\n",
            "Epoch 15/15\n",
            "18/18 - 4s - loss: 0.0213 - accuracy: 0.9945\n"
          ],
          "name": "stdout"
        }
      ]
    },
    {
      "cell_type": "code",
      "metadata": {
        "id": "JPIQZfC7TSJe",
        "colab": {
          "base_uri": "https://localhost:8080/"
        },
        "outputId": "eda115de-1bae-40d1-ebc2-ecf9da630623"
      },
      "source": [
        "print(model.metrics_names)"
      ],
      "execution_count": 18,
      "outputs": [
        {
          "output_type": "stream",
          "text": [
            "['loss', 'accuracy']\n"
          ],
          "name": "stdout"
        }
      ]
    },
    {
      "cell_type": "code",
      "metadata": {
        "id": "Gi7EW8P8FtU6"
      },
      "source": [
        "validation_size = 10\r\n",
        "\r\n",
        "X_validate = X_test[-validation_size:]\r\n",
        "Y_validate = Y_test[-validation_size:]\r\n",
        "X_test = X_test[:-validation_size]\r\n",
        "Y_test = Y_test[:-validation_size]\r\n"
      ],
      "execution_count": 19,
      "outputs": []
    },
    {
      "cell_type": "code",
      "metadata": {
        "id": "c3gYGWgcHge2",
        "colab": {
          "base_uri": "https://localhost:8080/"
        },
        "outputId": "d291ec1e-5033-4b94-b7d4-323397f72f62"
      },
      "source": [
        "#X_test.shape\r\n",
        "score,acc = model.evaluate(X_validate, Y_validate, verbose = 2, batch_size = batch_size)\r\n",
        "print(\"score Validation On LSTM: %.2f\" % (score))\r\n",
        "print(\"acc Validation On LSTM: %.2f\" % (acc))"
      ],
      "execution_count": 20,
      "outputs": [
        {
          "output_type": "stream",
          "text": [
            "1/1 - 1s - loss: 1.4647 - accuracy: 0.4000\n",
            "score Validation On LSTM: 1.46\n",
            "acc Validation On LSTM: 0.40\n"
          ],
          "name": "stdout"
        }
      ]
    },
    {
      "cell_type": "code",
      "metadata": {
        "id": "kzizXWiuHIRj",
        "colab": {
          "base_uri": "https://localhost:8080/"
        },
        "outputId": "f8e3c2e7-98da-45df-d5d1-08eb70a5350d"
      },
      "source": [
        "score,acc = model.evaluate(X_test, Y_test, verbose = 2, batch_size = batch_size)\r\n",
        "print(\"score Test On LSTM: %.2f\" % (score))\r\n",
        "print(\"acc Test On LSTM: %.2f\" % (acc))"
      ],
      "execution_count": 21,
      "outputs": [
        {
          "output_type": "stream",
          "text": [
            "9/9 - 0s - loss: 1.5862 - accuracy: 0.5731\n",
            "score Test On LSTM: 1.59\n",
            "acc Test On LSTM: 0.57\n"
          ],
          "name": "stdout"
        }
      ]
    },
    {
      "cell_type": "code",
      "metadata": {
        "id": "q7OwWbOG9lPj",
        "colab": {
          "base_uri": "https://localhost:8080/"
        },
        "outputId": "bd4bd382-ade4-4627-b1f7-a86d8d77620b"
      },
      "source": [
        "pos_cnt, neg_cnt, pos_correct, neg_correct = 0, 0, 0, 0\r\n",
        "for x in range(len(X_validate)):\r\n",
        "    \r\n",
        "    result = model.predict(X_validate[x].reshape(1,X_test.shape[1]),batch_size=1,verbose = 2)[0]\r\n",
        "   \r\n",
        "    if np.argmax(result) == np.argmax(Y_validate[x]):\r\n",
        "        if np.argmax(Y_validate[x]) == 0:\r\n",
        "            neg_correct += 1\r\n",
        "        else:\r\n",
        "            pos_correct += 1\r\n",
        "       \r\n",
        "    if np.argmax(Y_validate[x]) == 0:\r\n",
        "        neg_cnt += 1\r\n",
        "    else:\r\n",
        "        pos_cnt += 1\r\n",
        "\r\n",
        "\r\n",
        "\r\n",
        "print(\"pos_acc\", pos_correct/pos_cnt*100, \"%\")\r\n",
        "print(\"neg_acc\", neg_correct/neg_cnt*100, \"%\")"
      ],
      "execution_count": 22,
      "outputs": [
        {
          "output_type": "stream",
          "text": [
            "1/1 - 0s\n",
            "1/1 - 0s\n",
            "1/1 - 0s\n",
            "1/1 - 0s\n",
            "1/1 - 0s\n",
            "1/1 - 0s\n",
            "1/1 - 0s\n",
            "1/1 - 0s\n",
            "1/1 - 0s\n",
            "1/1 - 0s\n",
            "pos_acc 50.0 %\n",
            "neg_acc 25.0 %\n"
          ],
          "name": "stdout"
        }
      ]
    },
    {
      "cell_type": "markdown",
      "metadata": {
        "id": "nkJpoFQd8-QJ"
      },
      "source": [
        "#####<p dir='rtl'>**تست مدل**"
      ]
    },
    {
      "cell_type": "code",
      "metadata": {
        "id": "OctlAV7gtSjo"
      },
      "source": [
        "# evaluate the model\r\n",
        "_, train_acc = model.evaluate(X_train, Y_train, verbose=0)\r\n",
        "_, test_acc = model.evaluate(X_test, Y_test, verbose=0)"
      ],
      "execution_count": 23,
      "outputs": []
    },
    {
      "cell_type": "code",
      "metadata": {
        "id": "u66r7r1wt5o8",
        "colab": {
          "base_uri": "https://localhost:8080/",
          "height": 182
        },
        "outputId": "e7b3a76b-7b6f-44ad-ceae-4e5f07827fd9"
      },
      "source": [
        "# plot loss during training\r\n",
        "pyplot.subplot(211)\r\n",
        "pyplot.title('Loss')\r\n",
        "pyplot.plot(history.history['loss'], label='train')\r\n",
        "pyplot.legend()\r\n"
      ],
      "execution_count": 24,
      "outputs": [
        {
          "output_type": "execute_result",
          "data": {
            "text/plain": [
              "<matplotlib.legend.Legend at 0x7f9450df6a20>"
            ]
          },
          "metadata": {
            "tags": []
          },
          "execution_count": 24
        },
        {
          "output_type": "display_data",
          "data": {
            "image/png": "[encoded data removed]",
            "text/plain": [
              "<Figure size 432x288 with 1 Axes>"
            ]
          },
          "metadata": {
            "tags": [],
            "needs_background": "light"
          }
        }
      ]
    },
    {
      "cell_type": "code",
      "metadata": {
        "id": "QiweHyD72GQI",
        "colab": {
          "base_uri": "https://localhost:8080/",
          "height": 163
        },
        "outputId": "5ded4ea6-81c8-4771-d934-9b7cc9f8cd2c"
      },
      "source": [
        "# plot accuracy during training\r\n",
        "pyplot.subplot(212)\r\n",
        "pyplot.title('Accuracy')\r\n",
        "pyplot.plot(history.history['accuracy'], label='train')\r\n",
        "pyplot.legend()\r\n",
        "pyplot.show()"
      ],
      "execution_count": 25,
      "outputs": [
        {
          "output_type": "display_data",
          "data": {
            "image/png": "[encoded data removed]",
            "text/plain": [
              "<Figure size 432x288 with 1 Axes>"
            ]
          },
          "metadata": {
            "tags": [],
            "needs_background": "light"
          }
        }
      ]
    },
    {
      "cell_type": "code",
      "metadata": {
        "id": "USzSuIuJOKl0",
        "colab": {
          "base_uri": "https://localhost:8080/",
          "height": 804
        },
        "outputId": "2efbac71-2a9a-4cbd-bcb5-59060a33b4e1"
      },
      "source": [
        "\r\n",
        "print(\"\\n------------Confusion_Matrix-----------\\n\")\r\n",
        "y_pred = model.predict(X_test)\r\n",
        "\r\n",
        "cf_matrix= confusion_matrix(Y_test.argmax(axis=1),y_pred.argmax(axis=1))\r\n",
        "#cf_matrix=confusion_matrix(Y_test,y_pred)\r\n",
        "print(cf_matrix)\r\n",
        "print(\"\\n------------Macro-----------\\n\")\r\n",
        "print(\"Precision Score : \",precision_score(Y_test.argmax(axis=1),y_pred.argmax(axis=1),pos_label=1,average='macro'))\r\n",
        "print(\"Recall Score :\" , recall_score(Y_test.argmax(axis=1),y_pred.argmax(axis=1), pos_label=1,average='macro') )\r\n",
        "print(\"\\n------------Micro-----------\\n\")\r\n",
        "print(\"Precision Score : \",precision_score(Y_test.argmax(axis=1),y_pred.argmax(axis=1),pos_label=1,average='micro'))\r\n",
        "print(\"Recall Score :\" , recall_score(Y_test.argmax(axis=1),y_pred.argmax(axis=1), pos_label=1,average='micro') )\r\n",
        "print(\"\\n------------Weighted-----------\\n\")\r\n",
        "print(\"Precision Score : \",precision_score(Y_test.argmax(axis=1),y_pred.argmax(axis=1),pos_label=1,average='weighted'))\r\n",
        "print(\"Recall Score :\" , recall_score(Y_test.argmax(axis=1),y_pred.argmax(axis=1), pos_label=1,average='weighted') )\r\n",
        "\r\n",
        "print('\\n\\n------------F1_Score----------\\n')\r\n",
        "print(\"F1_Score :\",f1_score(Y_test.argmax(axis=1),y_pred.argmax(axis=1), pos_label=1,average='weighted'),\"\\n------------------------\\n\")\r\n",
        "\r\n",
        "import seaborn as sns\r\n",
        "sns.heatmap(cf_matrix, annot=True)"
      ],
      "execution_count": 26,
      "outputs": [
        {
          "output_type": "stream",
          "text": [
            "\n",
            "------------Confusion_Matrix-----------\n",
            "\n",
            "[[ 47  59]\n",
            " [ 52 102]]\n",
            "\n",
            "------------Macro-----------\n",
            "\n",
            "Precision Score :  0.5541439237091411\n",
            "Recall Score : 0.5528669443763783\n",
            "\n",
            "------------Micro-----------\n",
            "\n",
            "Precision Score :  0.573076923076923\n",
            "Recall Score : 0.573076923076923\n",
            "\n",
            "------------Weighted-----------\n",
            "\n",
            "Precision Score :  0.5688017296712949\n",
            "Recall Score : 0.573076923076923\n",
            "\n",
            "\n",
            "------------F1_Score----------\n",
            "\n",
            "F1_Score : 0.5705315822388993 \n",
            "------------------------\n",
            "\n"
          ],
          "name": "stdout"
        },
        {
          "output_type": "execute_result",
          "data": {
            "text/plain": [
              "<matplotlib.axes._subplots.AxesSubplot at 0x7f9450941588>"
            ]
          },
          "metadata": {
            "tags": []
          },
          "execution_count": 26
        },
        {
          "output_type": "display_data",
          "data": {
            "image/png": "[encoded data removed]",
            "text/plain": [
              "<Figure size 432x288 with 2 Axes>"
            ]
          },
          "metadata": {
            "tags": [],
            "needs_background": "light"
          }
        }
      ]
    },
    {
      "cell_type": "code",
      "metadata": {
        "id": "NZizzjEUNT9b",
        "colab": {
          "base_uri": "https://localhost:8080/"
        },
        "outputId": "57bbc3f0-ab58-40fb-e362-e2a45cc75a23"
      },
      "source": [
        "twt = ['Here’s Why Bitcoin is Likely to See Historic.']\r\n",
        "#vectorizing the tweet by the pre-fitted tokenizer instance\r\n",
        "twt = tokenizer.texts_to_sequences(twt)\r\n",
        "#padding the tweet to have exactly the same shape as `embedding_2` input\r\n",
        "twt = pad_sequences(twt, maxlen=28, dtype='int32', value=0)\r\n",
        "print(twt)\r\n",
        "Tags = model.predict(twt,batch_size=1,verbose = 2)[0]\r\n",
        "if(np.argmax(Tags) == 0):\r\n",
        "    print(\"negative\")\r\n",
        "elif (np.argmax(Tags) == 1):\r\n",
        "    print(\"positive\")"
      ],
      "execution_count": 27,
      "outputs": [
        {
          "output_type": "stream",
          "text": [
            "[[  0   0   0   0   0   0   0   0   0   0   0   0   0   0   0   0   0   0\n",
            "    0   0   0   0   0   0   0   0   1 715]]\n",
            "1/1 - 0s\n",
            "positive\n"
          ],
          "name": "stdout"
        }
      ]
    },
    {
      "cell_type": "markdown",
      "metadata": {
        "id": "F_WzZ9xWEV3H"
      },
      "source": [
        "#<p dir='rtl'> مدل سازی با svmخطی"
      ]
    },
    {
      "cell_type": "code",
      "metadata": {
        "id": "zLbeBTbmc_dk",
        "colab": {
          "base_uri": "https://localhost:8080/"
        },
        "outputId": "c97874ef-e2be-45b7-c6eb-55a12b7e32aa"
      },
      "source": [
        "from sklearn.svm import LinearSVC\r\n",
        "model1 = LinearSVC()\r\n",
        "X_train, X_test, y_train, y_test, indices_train, indices_test = train_test_split(X,data.Tags, data.index, test_size=0.33, random_state=0)\r\n",
        "model1.fit(X_train, y_train)\r\n",
        "y_pred = model1.predict(X_test)\r\n"
      ],
      "execution_count": 28,
      "outputs": [
        {
          "output_type": "stream",
          "text": [
            "/usr/local/lib/python3.6/dist-packages/sklearn/svm/_base.py:947: ConvergenceWarning: Liblinear failed to converge, increase the number of iterations.\n",
            "  \"the number of iterations.\", ConvergenceWarning)\n"
          ],
          "name": "stderr"
        }
      ]
    },
    {
      "cell_type": "code",
      "metadata": {
        "id": "yPvfMByxeZCO",
        "colab": {
          "base_uri": "https://localhost:8080/",
          "height": 284
        },
        "outputId": "5b69e0f3-956f-4e5f-f21b-d6efef48a1fc"
      },
      "source": [
        "import seaborn as sns\r\n",
        "conf_mat = confusion_matrix(y_test, y_pred)\r\n",
        "sns.heatmap(conf_mat, annot=True)"
      ],
      "execution_count": 29,
      "outputs": [
        {
          "output_type": "execute_result",
          "data": {
            "text/plain": [
              "<matplotlib.axes._subplots.AxesSubplot at 0x7f9458d2f8d0>"
            ]
          },
          "metadata": {
            "tags": []
          },
          "execution_count": 29
        },
        {
          "output_type": "display_data",
          "data": {
            "image/png": "[encoded data removed]",
            "text/plain": [
              "<Figure size 432x288 with 2 Axes>"
            ]
          },
          "metadata": {
            "tags": [],
            "needs_background": "light"
          }
        }
      ]
    }
  ]
}